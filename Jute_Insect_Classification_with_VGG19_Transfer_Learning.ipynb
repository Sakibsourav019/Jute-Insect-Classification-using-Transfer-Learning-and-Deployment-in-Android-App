{
  "nbformat": 4,
  "nbformat_minor": 0,
  "metadata": {
    "colab": {
      "name": "Jute Insect Classification with VGG19 Transfer Learning.ipynb",
      "provenance": [],
      "collapsed_sections": []
    },
    "kernelspec": {
      "display_name": "Python 3",
      "name": "python3"
    },
    "language_info": {
      "name": "python"
    }
  },
  "cells": [
    {
      "cell_type": "markdown",
      "metadata": {
        "id": "OLTQnConkGs5"
      },
      "source": [
        "**Jute Insect Classification with VGG19 Transfer Learning**\n"
      ]
    },
    {
      "cell_type": "code",
      "metadata": {
        "id": "ca12a822",
        "scrolled": true
      },
      "source": [
        "from google.colab import drive"
      ],
      "execution_count": 28,
      "outputs": []
    },
    {
      "cell_type": "code",
      "metadata": {
        "id": "3lc0d1M6DTxA",
        "colab": {
          "base_uri": "https://localhost:8080/"
        },
        "outputId": "9b3dbd79-6570-450d-c8f2-2688e7b2c3f7"
      },
      "source": [
        "drive.mount('/content/drive')"
      ],
      "execution_count": 29,
      "outputs": [
        {
          "output_type": "stream",
          "name": "stdout",
          "text": [
            "Drive already mounted at /content/drive; to attempt to forcibly remount, call drive.mount(\"/content/drive\", force_remount=True).\n"
          ]
        }
      ]
    },
    {
      "cell_type": "code",
      "metadata": {
        "id": "m96QN9bxFCwU"
      },
      "source": [
        "import numpy as np\n",
        "import os\n",
        "import PIL\n",
        "import tensorflow as tf\n",
        "from skimage import io\n",
        "from PIL import Image\n",
        "import random\n",
        "import cv2\n",
        "import matplotlib.pyplot as plt"
      ],
      "execution_count": 30,
      "outputs": []
    },
    {
      "cell_type": "code",
      "metadata": {
        "id": "psYFk2K6ErGT",
        "colab": {
          "base_uri": "https://localhost:8080/"
        },
        "outputId": "fa86ac2b-f7f5-4d86-b70a-8ec38fa307b2"
      },
      "source": [
        "import warnings\n",
        "warnings.filterwarnings('ignore')\n",
        "# Get all the paths\n",
        "data_dir_list = os.listdir('/content/drive/MyDrive/jute_insect_classification/insect_aug_data')\n",
        "print(data_dir_list)\n",
        "path, dirs, files = next(os.walk(\"/content/drive/MyDrive/jute_insect_classification/insect_aug_data\"))\n",
        "file_count = len(files)\n",
        "# print(file_count)"
      ],
      "execution_count": 31,
      "outputs": [
        {
          "output_type": "stream",
          "name": "stdout",
          "text": [
            "['Field Cricket', 'Jute Stem Weevil', 'Spilosoma Obliqua', 'Yellow Mite', 'random_insect_data', 'test.csv']\n"
          ]
        }
      ]
    },
    {
      "cell_type": "code",
      "metadata": {
        "colab": {
          "base_uri": "https://localhost:8080/",
          "height": 34
        },
        "id": "Bzj3e94DXUxH",
        "outputId": "610449c1-974d-4f32-e2a1-6b636d943064"
      },
      "source": [
        "'''\n",
        "# Make new base directory\n",
        "original_dataset_dir = '/content/drive/MyDrive/jute insect classification/insect_aug_data'\n",
        "base_dir = '/content/drive/MyDrive/insect_data_all'\n",
        "os.mkdir(base_dir)'''"
      ],
      "execution_count": 32,
      "outputs": [
        {
          "output_type": "execute_result",
          "data": {
            "application/vnd.google.colaboratory.intrinsic+json": {
              "type": "string"
            },
            "text/plain": [
              "\"\\n# Make new base directory\\noriginal_dataset_dir = '/content/drive/MyDrive/jute insect classification/insect_aug_data'\\nbase_dir = '/content/drive/MyDrive/insect_data_all'\\nos.mkdir(base_dir)\""
            ]
          },
          "metadata": {},
          "execution_count": 32
        }
      ]
    },
    {
      "cell_type": "code",
      "metadata": {
        "colab": {
          "base_uri": "https://localhost:8080/",
          "height": 104
        },
        "id": "QhBq8I9YX93J",
        "outputId": "d34878b4-0fac-46a2-de08-4e722af790c9"
      },
      "source": [
        "'''\n",
        "#create two folders (train and validation)\n",
        "train_dir = os.path.join(base_dir, 'train')\n",
        "os.mkdir(train_dir)\n",
        "\n",
        "validation_dir = os.path.join(base_dir, 'validation')\n",
        "os.mkdir(validation_dir)\n",
        "\n",
        "#Under train folder create five folders \n",
        "# (cloud, folly, rainy, shine, sunrise)\n",
        "\n",
        "train_cloud_dir = os.path.join(train_dir, 'Jute Stem Weevil')\n",
        "os.mkdir(train_cloud_dir)\n",
        "\n",
        "train_foggy_dir = os.path.join(train_dir, 'Field Cricket')\n",
        "os.mkdir(train_foggy_dir)\n",
        "\n",
        "train_rainy_dir = os.path.join(train_dir, 'Yellow Mite')\n",
        "os.mkdir(train_rainy_dir)\n",
        "\n",
        "train_shine_dir = os.path.join(train_dir, 'Spilosoma Obliqua')\n",
        "os.mkdir(train_shine_dir)\n",
        "\n",
        "#Under validation folder create five folders \n",
        "# (cloud, folly, rainy, shine, sunrise)\n",
        "\n",
        "validation_cloud_dir = os.path.join(validation_dir, 'Jute Stem Weevil')\n",
        "os.mkdir(validation_cloud_dir)\n",
        "\n",
        "validation_foggy_dir = os.path.join(validation_dir, 'Field Cricket')\n",
        "os.mkdir(validation_foggy_dir)\n",
        "\n",
        "validation_rainy_dir = os.path.join(validation_dir, 'Yellow Mite')\n",
        "os.mkdir(validation_rainy_dir)\n",
        "\n",
        "validation_rainy_dir = os.path.join(validation_dir, 'Spilosoma Obliqua')\n",
        "os.mkdir(validation_rainy_dir)\n",
        "'''"
      ],
      "execution_count": 33,
      "outputs": [
        {
          "output_type": "execute_result",
          "data": {
            "application/vnd.google.colaboratory.intrinsic+json": {
              "type": "string"
            },
            "text/plain": [
              "\"\\n#create two folders (train and validation)\\ntrain_dir = os.path.join(base_dir, 'train')\\nos.mkdir(train_dir)\\n\\nvalidation_dir = os.path.join(base_dir, 'validation')\\nos.mkdir(validation_dir)\\n\\n#Under train folder create five folders \\n# (cloud, folly, rainy, shine, sunrise)\\n\\ntrain_cloud_dir = os.path.join(train_dir, 'Jute Stem Weevil')\\nos.mkdir(train_cloud_dir)\\n\\ntrain_foggy_dir = os.path.join(train_dir, 'Field Cricket')\\nos.mkdir(train_foggy_dir)\\n\\ntrain_rainy_dir = os.path.join(train_dir, 'Yellow Mite')\\nos.mkdir(train_rainy_dir)\\n\\ntrain_shine_dir = os.path.join(train_dir, 'Spilosoma Obliqua')\\nos.mkdir(train_shine_dir)\\n\\n#Under validation folder create five folders \\n# (cloud, folly, rainy, shine, sunrise)\\n\\nvalidation_cloud_dir = os.path.join(validation_dir, 'Jute Stem Weevil')\\nos.mkdir(validation_cloud_dir)\\n\\nvalidation_foggy_dir = os.path.join(validation_dir, 'Field Cricket')\\nos.mkdir(validation_foggy_dir)\\n\\nvalidation_rainy_dir = os.path.join(validation_dir, 'Yellow Mite')\\nos.mkdir(validation_rainy_dir)\\n\\nvalidation_rainy_dir = os.path.join(validation_dir, 'Spilosoma Obliqua')\\nos.mkdir(validation_rainy_dir)\\n\""
            ]
          },
          "metadata": {},
          "execution_count": 33
        }
      ]
    },
    {
      "cell_type": "code",
      "metadata": {
        "id": "emGVNZcBY2EQ",
        "colab": {
          "base_uri": "https://localhost:8080/",
          "height": 104
        },
        "outputId": "7e0f968b-7099-48ea-f9dd-a1ea890b72fe"
      },
      "source": [
        "'''\n",
        "def split_data(SOURCE, TRAINING, VALIDATION, SPLIT_SIZE):\n",
        "    files = []\n",
        "    for filename in os.listdir(SOURCE):\n",
        "        file = SOURCE + filename\n",
        "        if os.path.getsize(file) > 0:\n",
        "            files.append(filename)\n",
        "        else:\n",
        "            print(filename + \" is zero length, so ignoring.\")\n",
        "\n",
        "    training_length = int(len(files) * SPLIT_SIZE)\n",
        "    valid_length = int(len(files) - training_length)\n",
        "    shuffled_set = random.sample(files, len(files))\n",
        "    training_set = shuffled_set[0:training_length]\n",
        "    valid_set = shuffled_set[training_length:]\n",
        "\n",
        "    for filename in training_set:\n",
        "        this_file = SOURCE + filename\n",
        "        destination = TRAINING + filename\n",
        "        copyfile(this_file, destination)\n",
        "\n",
        "    for filename in valid_set:\n",
        "        this_file = SOURCE + filename\n",
        "        destination = VALIDATION + filename\n",
        "        copyfile(this_file, destination)\n",
        "        '''"
      ],
      "execution_count": 34,
      "outputs": [
        {
          "output_type": "execute_result",
          "data": {
            "application/vnd.google.colaboratory.intrinsic+json": {
              "type": "string"
            },
            "text/plain": [
              "'\\ndef split_data(SOURCE, TRAINING, VALIDATION, SPLIT_SIZE):\\n    files = []\\n    for filename in os.listdir(SOURCE):\\n        file = SOURCE + filename\\n        if os.path.getsize(file) > 0:\\n            files.append(filename)\\n        else:\\n            print(filename + \" is zero length, so ignoring.\")\\n\\n    training_length = int(len(files) * SPLIT_SIZE)\\n    valid_length = int(len(files) - training_length)\\n    shuffled_set = random.sample(files, len(files))\\n    training_set = shuffled_set[0:training_length]\\n    valid_set = shuffled_set[training_length:]\\n\\n    for filename in training_set:\\n        this_file = SOURCE + filename\\n        destination = TRAINING + filename\\n        copyfile(this_file, destination)\\n\\n    for filename in valid_set:\\n        this_file = SOURCE + filename\\n        destination = VALIDATION + filename\\n        copyfile(this_file, destination)\\n        '"
            ]
          },
          "metadata": {},
          "execution_count": 34
        }
      ]
    },
    {
      "cell_type": "code",
      "metadata": {
        "id": "KMPm0qReZMmS",
        "colab": {
          "base_uri": "https://localhost:8080/",
          "height": 104
        },
        "outputId": "7a53644a-243f-4187-a2e4-72c8906e48ea"
      },
      "source": [
        "'''\n",
        "JSW_SOURCE_DIR = '/content/drive/MyDrive/jute insect classification/insect_aug_data/Jute Stem Weevil/'\n",
        "TRAINING_JSW_DIR = '/content/drive/MyDrive/insect_data_all/train/Jute Stem Weevil/'\n",
        "VALID_JSW_DIR = '/content/drive/MyDrive/insect_data_all/validation/Jute Stem Weevil/'\n",
        "\n",
        "FC_SOURCE_DIR = '/content/drive/MyDrive/jute insect classification/insect_aug_data/Field Cricket/'\n",
        "TRAINING_FC_DIR = '/content/drive/MyDrive/insect_data_all/train/Field Cricket/'\n",
        "VALID_FC_DIR = '/content/drive/MyDrive/insect_data_all/validation/Field Cricket/'\n",
        "\n",
        "YM_SOURCE_DIR = '/content/drive/MyDrive/jute insect classification/insect_aug_data/Yellow Mite/'\n",
        "TRAINING_YM_DIR = '/content/drive/MyDrive/insect_data_all/train/Yellow Mite/'\n",
        "VALID_YM_DIR = '/content/drive/MyDrive/insect_data_all/validation/Yellow Mite/'\n",
        "\n",
        "SO_SOURCE_DIR = '/content/drive/MyDrive/jute insect classification/insect_aug_data/Spilosoma Obliqua/'\n",
        "TRAINING_SO_DIR = '/content/drive/MyDrive/insect_data_all/train/Spilosoma Obliqua/'\n",
        "VALID_SO_DIR = '/content/drive/MyDrive/insect_data_all/validation/Spilosoma Obliqua/'\n",
        "'''"
      ],
      "execution_count": 35,
      "outputs": [
        {
          "output_type": "execute_result",
          "data": {
            "application/vnd.google.colaboratory.intrinsic+json": {
              "type": "string"
            },
            "text/plain": [
              "\"\\nJSW_SOURCE_DIR = '/content/drive/MyDrive/jute insect classification/insect_aug_data/Jute Stem Weevil/'\\nTRAINING_JSW_DIR = '/content/drive/MyDrive/insect_data_all/train/Jute Stem Weevil/'\\nVALID_JSW_DIR = '/content/drive/MyDrive/insect_data_all/validation/Jute Stem Weevil/'\\n\\nFC_SOURCE_DIR = '/content/drive/MyDrive/jute insect classification/insect_aug_data/Field Cricket/'\\nTRAINING_FC_DIR = '/content/drive/MyDrive/insect_data_all/train/Field Cricket/'\\nVALID_FC_DIR = '/content/drive/MyDrive/insect_data_all/validation/Field Cricket/'\\n\\nYM_SOURCE_DIR = '/content/drive/MyDrive/jute insect classification/insect_aug_data/Yellow Mite/'\\nTRAINING_YM_DIR = '/content/drive/MyDrive/insect_data_all/train/Yellow Mite/'\\nVALID_YM_DIR = '/content/drive/MyDrive/insect_data_all/validation/Yellow Mite/'\\n\\nSO_SOURCE_DIR = '/content/drive/MyDrive/jute insect classification/insect_aug_data/Spilosoma Obliqua/'\\nTRAINING_SO_DIR = '/content/drive/MyDrive/insect_data_all/train/Spilosoma Obliqua/'\\nVALID_SO_DIR = '/content/drive/MyDrive/insect_data_all/validation/Spilosoma Obliqua/'\\n\""
            ]
          },
          "metadata": {},
          "execution_count": 35
        }
      ]
    },
    {
      "cell_type": "code",
      "metadata": {
        "id": "8xizjUNNbKD7",
        "colab": {
          "base_uri": "https://localhost:8080/",
          "height": 52
        },
        "outputId": "85a7a70d-5e76-4e46-d8c2-7789b4e6d08f"
      },
      "source": [
        "'''\n",
        "import os\n",
        "import random\n",
        "from shutil import copyfile\n",
        "\n",
        "split_size = .90\n",
        "\n",
        "split_data(JSW_SOURCE_DIR, TRAINING_JSW_DIR, VALID_JSW_DIR, split_size)\n",
        "split_data(FC_SOURCE_DIR, TRAINING_FC_DIR, VALID_FC_DIR, split_size)\n",
        "split_data(YM_SOURCE_DIR, TRAINING_YM_DIR, VALID_YM_DIR, split_size)\n",
        "split_data(SO_SOURCE_DIR, TRAINING_SO_DIR, VALID_SO_DIR, split_size)\n",
        "'''"
      ],
      "execution_count": 36,
      "outputs": [
        {
          "output_type": "execute_result",
          "data": {
            "application/vnd.google.colaboratory.intrinsic+json": {
              "type": "string"
            },
            "text/plain": [
              "'\\nimport os\\nimport random\\nfrom shutil import copyfile\\n\\nsplit_size = .90\\n\\nsplit_data(JSW_SOURCE_DIR, TRAINING_JSW_DIR, VALID_JSW_DIR, split_size)\\nsplit_data(FC_SOURCE_DIR, TRAINING_FC_DIR, VALID_FC_DIR, split_size)\\nsplit_data(YM_SOURCE_DIR, TRAINING_YM_DIR, VALID_YM_DIR, split_size)\\nsplit_data(SO_SOURCE_DIR, TRAINING_SO_DIR, VALID_SO_DIR, split_size)\\n'"
            ]
          },
          "metadata": {},
          "execution_count": 36
        }
      ]
    },
    {
      "cell_type": "code",
      "metadata": {
        "colab": {
          "base_uri": "https://localhost:8080/",
          "height": 390
        },
        "id": "jwIqtZppcG1Z",
        "outputId": "edbdf24d-0f19-44ba-8e40-fa0a62852759"
      },
      "source": [
        "import matplotlib.pyplot as plt\n",
        "import seaborn as sns\n",
        "from matplotlib.image import imread\n",
        "import pathlib\n",
        "\n",
        "image_folder = [ 'Field Cricket','Jute Stem Weevil', 'Spilosoma Obliqua', 'Yellow Mite']\n",
        "nimgs = {}\n",
        "for i in image_folder:\n",
        "    nimages = len(os.listdir('/content/drive/MyDrive/insect_data_all/train/'+i+'/'))\n",
        "    nimgs[i]=nimages\n",
        "plt.figure(figsize=(9, 6))\n",
        "plt.bar(range(len(nimgs)), list(nimgs.values()), align='center')\n",
        "plt.xticks(range(len(nimgs)), list(nimgs.keys()))\n",
        "plt.title('Distribution of different classes in Training Dataset')\n",
        "plt.show()"
      ],
      "execution_count": 37,
      "outputs": [
        {
          "output_type": "display_data",
          "data": {
            "image/png": "[encoded data removed]",
            "text/plain": [
              "<Figure size 648x432 with 1 Axes>"
            ]
          },
          "metadata": {
            "needs_background": "light"
          }
        }
      ]
    },
    {
      "cell_type": "code",
      "metadata": {
        "colab": {
          "base_uri": "https://localhost:8080/"
        },
        "id": "1vDJIdXve_77",
        "outputId": "be1e418c-b4eb-4ea0-d6cd-f626b515e5cf"
      },
      "source": [
        "\n",
        "for i in ['Field Cricket','Jute Stem Weevil', 'Spilosoma Obliqua', 'Yellow Mite']:\n",
        "    print('Training {} images are: '.format(i)+str(len(os.listdir('/content/drive/MyDrive/insect_data_all/train/'+i+'/'))))"
      ],
      "execution_count": 38,
      "outputs": [
        {
          "output_type": "stream",
          "name": "stdout",
          "text": [
            "Training Field Cricket images are: 347\n",
            "Training Jute Stem Weevil images are: 324\n",
            "Training Spilosoma Obliqua images are: 390\n",
            "Training Yellow Mite images are: 329\n"
          ]
        }
      ]
    },
    {
      "cell_type": "code",
      "metadata": {
        "colab": {
          "base_uri": "https://localhost:8080/",
          "height": 390
        },
        "id": "74zc2ks0f6P-",
        "outputId": "eeb7a3db-452f-4250-dd12-fd89c96550c6"
      },
      "source": [
        "image_folder = [ 'Field Cricket','Jute Stem Weevil', 'Spilosoma Obliqua', 'Yellow Mite']\n",
        "nimgs = {}\n",
        "for i in image_folder:\n",
        "    nimages = len(os.listdir('/content/drive/MyDrive/insect_data_all/validation/'+i+'/'))\n",
        "    nimgs[i]=nimages\n",
        "plt.figure(figsize=(9, 6))\n",
        "plt.bar(range(len(nimgs)), list(nimgs.values()), align='center')\n",
        "plt.xticks(range(len(nimgs)), list(nimgs.keys()))\n",
        "plt.title('Distribution of different classes in Validation Dataset')\n",
        "plt.show()"
      ],
      "execution_count": 39,
      "outputs": [
        {
          "output_type": "display_data",
          "data": {
            "image/png": "[encoded data removed]",
            "text/plain": [
              "<Figure size 648x432 with 1 Axes>"
            ]
          },
          "metadata": {
            "needs_background": "light"
          }
        }
      ]
    },
    {
      "cell_type": "code",
      "metadata": {
        "colab": {
          "base_uri": "https://localhost:8080/"
        },
        "id": "quUBp8kngJoR",
        "outputId": "8d11a3db-6aad-452c-a37e-f448563dc0b2"
      },
      "source": [
        "for i in [ 'Field Cricket','Jute Stem Weevil', 'Spilosoma Obliqua', 'Yellow Mite']:\n",
        "    print('Validation {} images are: '.format(i)+str(len(os.listdir('/content/drive/MyDrive/insect_data_all/validation/'+i+'/'))))"
      ],
      "execution_count": 40,
      "outputs": [
        {
          "output_type": "stream",
          "name": "stdout",
          "text": [
            "Validation Field Cricket images are: 33\n",
            "Validation Jute Stem Weevil images are: 36\n",
            "Validation Spilosoma Obliqua images are: 39\n",
            "Validation Yellow Mite images are: 37\n"
          ]
        }
      ]
    },
    {
      "cell_type": "code",
      "metadata": {
        "id": "LjrnJ8bvgzF0"
      },
      "source": [
        "image_size=224\n",
        "batch_size=64"
      ],
      "execution_count": 41,
      "outputs": []
    },
    {
      "cell_type": "code",
      "metadata": {
        "colab": {
          "base_uri": "https://localhost:8080/"
        },
        "id": "R1Vp7WlQg2qt",
        "outputId": "32bf28cc-64f7-4390-87d4-8c10dc115bed"
      },
      "source": [
        "TRAINING_DIR = '/content/drive/MyDrive/insect_data_all/train/'\n",
        "\n",
        "\n",
        "train_datagen=tf.keras.preprocessing.image.ImageDataGenerator(\n",
        "\n",
        "    \n",
        "    rescale=1./255,\n",
        "    zoom_range=0.2,\n",
        "    horizontal_flip=True)\n",
        "\n",
        "train_generator = train_datagen.flow_from_directory(TRAINING_DIR,\n",
        "                                                    batch_size=batch_size,\n",
        "                                                    target_size=(image_size,image_size)\n",
        "                                                    \n",
        "                                                    )\n",
        "\n"
      ],
      "execution_count": 42,
      "outputs": [
        {
          "output_type": "stream",
          "name": "stdout",
          "text": [
            "Found 1390 images belonging to 4 classes.\n"
          ]
        }
      ]
    },
    {
      "cell_type": "code",
      "metadata": {
        "colab": {
          "base_uri": "https://localhost:8080/"
        },
        "id": "vd39fSpghnWI",
        "outputId": "31ffa4ff-6e65-4546-9b82-68d90e3b4611"
      },
      "source": [
        "VALIDATION_DIR = '/content/drive/MyDrive/insect_data_all/validation/'\n",
        "\n",
        "validation_datagen=tf.keras.preprocessing.image.ImageDataGenerator(\n",
        "    rescale=1./255)\n",
        "\n",
        "validation_generator=validation_datagen.flow_from_directory(VALIDATION_DIR,\n",
        "                                                              batch_size=batch_size,\n",
        "                                                              target_size=(image_size,image_size)\n",
        "                                                              \n",
        "                                                             )"
      ],
      "execution_count": 43,
      "outputs": [
        {
          "output_type": "stream",
          "name": "stdout",
          "text": [
            "Found 145 images belonging to 4 classes.\n"
          ]
        }
      ]
    },
    {
      "cell_type": "code",
      "metadata": {
        "id": "6BPuKzCMgunN"
      },
      "source": [
        "#Step 3. Deep Learning with Data Augumentation\n",
        "\n",
        "from tensorflow.keras.optimizers import Adam\n",
        "from tensorflow.keras.preprocessing.image import ImageDataGenerator\n",
        "from tensorflow.keras.models import Sequential\n",
        "from tensorflow.keras.callbacks import EarlyStopping, ModelCheckpoint\n",
        "\n",
        "from tensorflow.keras.layers import Input, Flatten, Dense\n",
        "from tensorflow.keras.models import Model\n",
        "from tensorflow.keras.applications.vgg19 import VGG19\n",
        "from glob import glob\n",
        "from tensorflow import keras"
      ],
      "execution_count": 44,
      "outputs": []
    },
    {
      "cell_type": "code",
      "metadata": {
        "colab": {
          "base_uri": "https://localhost:8080/"
        },
        "id": "e78347e0",
        "outputId": "a3920990-a7a8-46ed-983f-f65778e44a6e"
      },
      "source": [
        "#in vgg19, image size must be 224*224\n",
        "image_size=[224,224]\n",
        "vgg=VGG19(input_shape=image_size+[3], weights='imagenet', include_top=False)\n",
        "vgg.output"
      ],
      "execution_count": 45,
      "outputs": [
        {
          "output_type": "execute_result",
          "data": {
            "text/plain": [
              "<KerasTensor: shape=(None, 7, 7, 512) dtype=float32 (created by layer 'block5_pool')>"
            ]
          },
          "metadata": {},
          "execution_count": 45
        }
      ]
    },
    {
      "cell_type": "code",
      "metadata": {
        "id": "aa16705e"
      },
      "source": [
        "#we will not going to train vgg layers\n",
        "for layer in vgg.layers:\n",
        "    layer.trainable=False"
      ],
      "execution_count": 46,
      "outputs": []
    },
    {
      "cell_type": "code",
      "metadata": {
        "colab": {
          "base_uri": "https://localhost:8080/"
        },
        "id": "07548abe",
        "outputId": "2f616170-c09b-41a1-d0ea-fcee1f64eada"
      },
      "source": [
        "#to make the vgg16 recognise our dataclass from folders/directory\n",
        "folders=glob(r\"/content/drive/MyDrive/insect_data_all/train/*\")\n",
        "folders=glob(r\"/content/drive/MyDrive/insect_data_all/validation/*\")\n",
        "print(len(folders))"
      ],
      "execution_count": 47,
      "outputs": [
        {
          "output_type": "stream",
          "name": "stdout",
          "text": [
            "4\n"
          ]
        }
      ]
    },
    {
      "cell_type": "code",
      "metadata": {
        "colab": {
          "base_uri": "https://localhost:8080/"
        },
        "id": "718caf19",
        "outputId": "0e8f55b9-a1bf-4133-ce70-8ffe022ddbac"
      },
      "source": [
        "x=Flatten()(vgg.output)\n",
        "prediction=Dense(len(folders),activation='softmax')(x) #we can add more dense layer in here to increase accuracy #Softmax computes the probability that the input belongs to a particular class, for each class. The values in each row summate to 1 – or 100%, which is a characteristic of a valid probability distribution.\n",
        "model=Model(inputs=vgg.input, outputs=prediction)\n",
        "model.summary()"
      ],
      "execution_count": 48,
      "outputs": [
        {
          "output_type": "stream",
          "name": "stdout",
          "text": [
            "Model: \"model_1\"\n",
            "_________________________________________________________________\n",
            "Layer (type)                 Output Shape              Param #   \n",
            "=================================================================\n",
            "input_2 (InputLayer)         [(None, 224, 224, 3)]     0         \n",
            "_________________________________________________________________\n",
            "block1_conv1 (Conv2D)        (None, 224, 224, 64)      1792      \n",
            "_________________________________________________________________\n",
            "block1_conv2 (Conv2D)        (None, 224, 224, 64)      36928     \n",
            "_________________________________________________________________\n",
            "block1_pool (MaxPooling2D)   (None, 112, 112, 64)      0         \n",
            "_________________________________________________________________\n",
            "block2_conv1 (Conv2D)        (None, 112, 112, 128)     73856     \n",
            "_________________________________________________________________\n",
            "block2_conv2 (Conv2D)        (None, 112, 112, 128)     147584    \n",
            "_________________________________________________________________\n",
            "block2_pool (MaxPooling2D)   (None, 56, 56, 128)       0         \n",
            "_________________________________________________________________\n",
            "block3_conv1 (Conv2D)        (None, 56, 56, 256)       295168    \n",
            "_________________________________________________________________\n",
            "block3_conv2 (Conv2D)        (None, 56, 56, 256)       590080    \n",
            "_________________________________________________________________\n",
            "block3_conv3 (Conv2D)        (None, 56, 56, 256)       590080    \n",
            "_________________________________________________________________\n",
            "block3_conv4 (Conv2D)        (None, 56, 56, 256)       590080    \n",
            "_________________________________________________________________\n",
            "block3_pool (MaxPooling2D)   (None, 28, 28, 256)       0         \n",
            "_________________________________________________________________\n",
            "block4_conv1 (Conv2D)        (None, 28, 28, 512)       1180160   \n",
            "_________________________________________________________________\n",
            "block4_conv2 (Conv2D)        (None, 28, 28, 512)       2359808   \n",
            "_________________________________________________________________\n",
            "block4_conv3 (Conv2D)        (None, 28, 28, 512)       2359808   \n",
            "_________________________________________________________________\n",
            "block4_conv4 (Conv2D)        (None, 28, 28, 512)       2359808   \n",
            "_________________________________________________________________\n",
            "block4_pool (MaxPooling2D)   (None, 14, 14, 512)       0         \n",
            "_________________________________________________________________\n",
            "block5_conv1 (Conv2D)        (None, 14, 14, 512)       2359808   \n",
            "_________________________________________________________________\n",
            "block5_conv2 (Conv2D)        (None, 14, 14, 512)       2359808   \n",
            "_________________________________________________________________\n",
            "block5_conv3 (Conv2D)        (None, 14, 14, 512)       2359808   \n",
            "_________________________________________________________________\n",
            "block5_conv4 (Conv2D)        (None, 14, 14, 512)       2359808   \n",
            "_________________________________________________________________\n",
            "block5_pool (MaxPooling2D)   (None, 7, 7, 512)         0         \n",
            "_________________________________________________________________\n",
            "flatten_1 (Flatten)          (None, 25088)             0         \n",
            "_________________________________________________________________\n",
            "dense_1 (Dense)              (None, 4)                 100356    \n",
            "=================================================================\n",
            "Total params: 20,124,740\n",
            "Trainable params: 100,356\n",
            "Non-trainable params: 20,024,384\n",
            "_________________________________________________________________\n"
          ]
        }
      ]
    },
    {
      "cell_type": "code",
      "metadata": {
        "id": "d9821d22"
      },
      "source": [
        "#model_train\n",
        "model.compile(optimizer=tf.keras.optimizers.Adam(), \n",
        "              loss='categorical_crossentropy', \n",
        "              metrics=['accuracy']) #loss='binary/sparse_crossentropy'\n",
        "#cnn.compile(optimizer=tf.keras.optimizers.Adam(),loss='categorical_crossentropy',metrics=['accuracy'])"
      ],
      "execution_count": 49,
      "outputs": []
    },
    {
      "cell_type": "code",
      "metadata": {
        "colab": {
          "base_uri": "https://localhost:8080/"
        },
        "id": "f98da3b4",
        "outputId": "7824ba74-183d-481a-f6a3-f6086b72b039"
      },
      "source": [
        "epochs=15\n",
        "\n",
        "history= model.fit(train_generator,\n",
        "                  steps_per_epoch=len(train_generator),\n",
        "                  epochs=epochs,\n",
        "                  validation_data=validation_generator,\n",
        "                 )\n",
        "                \n",
        "\"\"\"model.fit(train_generator,epochs=4,validation_data=validation_generator)\"\"\""
      ],
      "execution_count": null,
      "outputs": [
        {
          "output_type": "stream",
          "name": "stdout",
          "text": [
            "Epoch 1/15\n",
            "22/22 [==============================] - 1001s 45s/step - loss: 1.6460 - accuracy: 0.4748 - val_loss: 0.8789 - val_accuracy: 0.6759\n",
            "Epoch 2/15\n",
            "22/22 [==============================] - 968s 44s/step - loss: 0.5378 - accuracy: 0.8187 - val_loss: 0.4226 - val_accuracy: 0.8828\n",
            "Epoch 3/15\n",
            "22/22 [==============================] - 970s 44s/step - loss: 0.3343 - accuracy: 0.9180 - val_loss: 0.3421 - val_accuracy: 0.8897\n",
            "Epoch 4/15\n",
            "22/22 [==============================] - 969s 44s/step - loss: 0.2538 - accuracy: 0.9496 - val_loss: 0.2888 - val_accuracy: 0.9379\n",
            "Epoch 5/15\n",
            "22/22 [==============================] - 965s 44s/step - loss: 0.1977 - accuracy: 0.9576 - val_loss: 0.2906 - val_accuracy: 0.9172\n",
            "Epoch 6/15\n",
            "22/22 [==============================] - 960s 44s/step - loss: 0.1683 - accuracy: 0.9683 - val_loss: 0.2227 - val_accuracy: 0.9310\n",
            "Epoch 7/15\n",
            " 2/22 [=>............................] - ETA: 13:22 - loss: 0.2213 - accuracy: 0.9375"
          ]
        }
      ]
    },
    {
      "cell_type": "code",
      "metadata": {
        "id": "aGikZNuTtJ_O"
      },
      "source": [
        "\n",
        "acc=history.history['accuracy']\n",
        "val_acc=history.history['val_accuracy']\n",
        "loss=history.history['loss']\n",
        "val_loss=history.history['val_loss']\n",
        "\n",
        "epochs=range(len(acc))\n",
        "\n",
        "fig = plt.figure(figsize=(14,7))\n",
        "plt.plot(epochs, acc, 'r', label=\"Training Accuracy\")\n",
        "plt.plot(epochs, val_acc, 'b', label=\"Validation Accuracy\")\n",
        "plt.xlabel('Epoch')\n",
        "plt.ylabel('Accuracy')\n",
        "plt.title('Training and validation accuracy')\n",
        "plt.legend(loc='lower right')\n",
        "plt.show"
      ],
      "execution_count": null,
      "outputs": []
    },
    {
      "cell_type": "code",
      "metadata": {
        "id": "fuBNVXRMt2TI"
      },
      "source": [
        "\n",
        "fig2 = plt.figure(figsize=(14,7))\n",
        "plt.plot(epochs, loss, 'r', label=\"Training Loss\")\n",
        "plt.plot(epochs, val_loss, 'b', label=\"Validation Loss\")\n",
        "plt.legend(loc='upper right')\n",
        "plt.xlabel('Epoch')\n",
        "plt.ylabel('Loss')\n",
        "plt.title('Training and validation loss')\n"
      ],
      "execution_count": null,
      "outputs": []
    },
    {
      "cell_type": "code",
      "metadata": {
        "id": "Q8lAyhk9ut3V"
      },
      "source": [
        "## Test Performance on Test Data\n",
        "\n",
        "import pandas as pd\n",
        "from keras.preprocessing.image import load_img, img_to_array\n",
        "\n",
        "def preprocess_image(path):\n",
        "    img = load_img(path, target_size = (image_size, image_size))\n",
        "    a = img_to_array(img)\n",
        "    a = np.expand_dims(a, axis = 0)\n",
        "    a /= 255.\n",
        "    return a\n",
        "    "
      ],
      "execution_count": null,
      "outputs": []
    },
    {
      "cell_type": "code",
      "metadata": {
        "id": "-8IrVysUor4f"
      },
      "source": [
        "#!pip install numpy"
      ],
      "execution_count": null,
      "outputs": []
    },
    {
      "cell_type": "code",
      "metadata": {
        "id": "f1fpWvC3u-E-"
      },
      "source": [
        "#Step 4. Checking performance on Test Data (Out of the sample)\n",
        "\n",
        "# Read Test Images Dir and their labels\n",
        "test_images_dir = r'/content/drive/MyDrive/jute_insect_classification/insect_aug_data/random_insect_data/'\n",
        "test_df = pd.read_csv('/content/drive/MyDrive/jute_insect_classification/insect_aug_data/test.csv')\n",
        "\n",
        "# put them in a list\n",
        "test_dfToList = test_df['Image_id'].tolist()\n",
        "test_ids = [str(item) for item in test_dfToList]\n",
        "\n",
        "test_images = [test_images_dir+item for item in test_ids]\n",
        "test_preprocessed_images = np.vstack([preprocess_image(fn) for fn in test_images])\n",
        "#np.save('/content/drive/MyDrive/test_preproc_CNN.npy', test_preprocessed_images)"
      ],
      "execution_count": null,
      "outputs": []
    },
    {
      "cell_type": "code",
      "metadata": {
        "id": "mBBhhGbNvWb0"
      },
      "source": [
        "array = model.predict(test_preprocessed_images, batch_size=1, verbose=1)\n",
        "answer = np.argmax(array, axis=1)\n",
        "print(answer)"
      ],
      "execution_count": null,
      "outputs": []
    },
    {
      "cell_type": "code",
      "metadata": {
        "id": "yKKUF2uivbOW"
      },
      "source": [
        "test_df = pd.read_csv('/content/drive/MyDrive/jute_insect_classification/insect_aug_data/test.csv')\n",
        "y_true = test_df['labels']\n",
        "y_pred = array\n",
        "print(y_true)"
      ],
      "execution_count": null,
      "outputs": []
    },
    {
      "cell_type": "code",
      "metadata": {
        "id": "OLVt1xgLvkoU"
      },
      "source": [
        "from sklearn.metrics import log_loss\n",
        "loss = log_loss(y_true, y_pred, eps=1e-15, normalize=True, sample_weight=None, labels=None)\n",
        "\n"
      ],
      "execution_count": null,
      "outputs": []
    },
    {
      "cell_type": "code",
      "metadata": {
        "id": "aXOPcqUDvrb9"
      },
      "source": [
        "from sklearn.metrics import confusion_matrix\n",
        "conf_mat = confusion_matrix(y_true, answer)\n",
        "conf_mat"
      ],
      "execution_count": null,
      "outputs": []
    },
    {
      "cell_type": "code",
      "metadata": {
        "id": "5So7Sprhvt_6"
      },
      "source": [
        "train_dir = '/content/drive/MyDrive/insect_data_all/train/'\n",
        "classes = os.listdir(train_dir)"
      ],
      "execution_count": null,
      "outputs": []
    },
    {
      "cell_type": "code",
      "metadata": {
        "id": "2xQGnlIqv1PB"
      },
      "source": [
        "import itertools\n",
        "def plot_confusion_matrix(cm, classes,\n",
        "                          normalize=False,\n",
        "                          title='Confusion matrix',\n",
        "                          cmap=plt.cm.Reds):\n",
        "    \"\"\"\n",
        "    This function prints and plots the confusion matrix.\n",
        "    Normalization can be applied by setting `normalize=True`.\n",
        "    \"\"\"\n",
        "    plt.imshow(cm, interpolation='nearest', cmap=cmap)\n",
        "    plt.title(title)\n",
        "    plt.colorbar()\n",
        "    tick_marks = np.arange(len(classes))\n",
        "    plt.xticks(tick_marks, classes, rotation=45)\n",
        "    plt.yticks(tick_marks, classes)\n",
        "\n",
        "    if normalize:\n",
        "        cm = cm.astype('float') / cm.sum(axis=1)[:, np.newaxis]\n",
        "        cm = cm.round(2)\n",
        "        #print(\"Normalized confusion matrix\")\n",
        "    else:\n",
        "        cm=cm\n",
        "        #print('Confusion matrix, without normalization')\n",
        "\n",
        "    #print(cm)\n",
        "\n",
        "    thresh = cm.max() / 2.\n",
        "    for i, j in itertools.product(range(cm.shape[0]), range(cm.shape[1])):\n",
        "        plt.text(j, i, cm[i, j],\n",
        "                 horizontalalignment=\"center\",\n",
        "                 color=\"white\" if cm[i, j] > thresh else \"black\")\n",
        "\n",
        "    plt.tight_layout()\n",
        "    plt.ylabel('True label')\n",
        "    plt.xlabel('Predicted label')"
      ],
      "execution_count": null,
      "outputs": []
    },
    {
      "cell_type": "code",
      "metadata": {
        "id": "KEjrE4QUv7pB"
      },
      "source": [
        "np.set_printoptions(precision=2)\n",
        "\n",
        "fig1 = plt.figure(figsize=(7,6))\n",
        "plot_confusion_matrix(conf_mat, classes=classes, title='Confusion matrix, without normalization')\n",
        "plt.show()"
      ],
      "execution_count": null,
      "outputs": []
    },
    {
      "cell_type": "code",
      "metadata": {
        "id": "aPU67HBlwXHo"
      },
      "source": [
        ""
      ],
      "execution_count": null,
      "outputs": []
    },
    {
      "cell_type": "markdown",
      "metadata": {
        "id": "Ku9n7G8WwYKd"
      },
      "source": [
        "**THE END**"
      ]
    },
    {
      "cell_type": "code",
      "metadata": {
        "id": "Gzz3X8C8w-JN"
      },
      "source": [
        "prediction.shape"
      ],
      "execution_count": null,
      "outputs": []
    },
    {
      "cell_type": "code",
      "metadata": {
        "id": "7WhnKlaN1sMi"
      },
      "source": [
        "model.evaluate(validation_generator)"
      ],
      "execution_count": null,
      "outputs": []
    },
    {
      "cell_type": "code",
      "metadata": {
        "id": "720cf3a3"
      },
      "source": [
        " #Model Prediction\n",
        "\n",
        "from keras.preprocessing import image\n",
        "import numpy as np\n",
        "\n",
        "img_pred=image.load_img(r\"/content/drive/MyDrive/jute_insect_classification/insect_aug_data/random_insect_data/SO_21.jpg\",target_size=(224,224))\n",
        "\n",
        "img_pred=image.img_to_array(img_pred)\n",
        "img_pred=np.expand_dims(img_pred, axis=0)\n",
        "\n",
        "\n",
        "rslt = model.predict(img_pred)\n",
        "\n",
        "print(rslt)\n",
        "if rslt[0][0]>rslt[0][1]and rslt[0][2]and rslt[0][3]:\n",
        "    prediction=\"উরচুঙ্গা পোকা_Field Cricket\"\n",
        "\n",
        "if rslt[0][1]>rslt[0][0]and rslt[0][2]and rslt[0][3]:\n",
        "    prediction=\"চেলে পোকা_Jute Stem Weevil\"\n",
        "\n",
        "if rslt[0][2]>rslt[0][0]and rslt[0][1]and rslt[0][3]:\n",
        "    prediction=\"বিছা পোকা_Spilosoma Obliqua\"\n",
        "\n",
        "else:\n",
        "    prediction=\"হলুদ মাকড়_Yellow Mite\"\n",
        "print(prediction)\n"
      ],
      "execution_count": null,
      "outputs": []
    },
    {
      "cell_type": "code",
      "metadata": {
        "id": "AVdjX71oR0F3"
      },
      "source": [
        "keras_file = \"/content/drive/MyDrive/jute_insect.h5\"\n",
        "keras.models.save_model(model, keras_file)"
      ],
      "execution_count": null,
      "outputs": []
    },
    {
      "cell_type": "code",
      "metadata": {
        "id": "VGHQeKbVURjC"
      },
      "source": [
        "tf_model_name = \"/content/drive/MyDrive/jute_insect.tflite\"\n",
        "converter = tf.lite.TFLiteConverter.from_keras_model(model)\n",
        "tflite_model=converter.convert()\n",
        "tflite_model_name = tf_model_name\n",
        "open(tflite_model_name,\"wb\").write(tflite_model)"
      ],
      "execution_count": null,
      "outputs": []
    },
    {
      "cell_type": "code",
      "metadata": {
        "id": "OdhXYojvYOG5"
      },
      "source": [
        "print(tf.__version__)"
      ],
      "execution_count": null,
      "outputs": []
    }
  ]
}
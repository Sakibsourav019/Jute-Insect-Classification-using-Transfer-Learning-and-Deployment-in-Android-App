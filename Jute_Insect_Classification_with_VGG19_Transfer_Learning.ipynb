{
 "cells": [
  {
   "cell_type": "markdown",
   "metadata": {
    "id": "OLTQnConkGs5"
   },
   "source": [
    "**Jute Insect Classification with VGG19 Transfer Learning**\n"
   ]
  },
  {
   "cell_type": "code",
   "execution_count": 1,
   "metadata": {
    "id": "ca12a822",
    "scrolled": true
   },
   "outputs": [],
   "source": [
    "from google.colab import drive"
   ]
  },
  {
   "cell_type": "code",
   "execution_count": 2,
   "metadata": {
    "colab": {
     "base_uri": "https://localhost:8080/"
    },
    "id": "3lc0d1M6DTxA",
    "outputId": "01895329-1dc5-4f87-8306-2a5a1953a98f"
   },
   "outputs": [
    {
     "name": "stdout",
     "output_type": "stream",
     "text": [
      "Mounted at /content/drive\n"
     ]
    }
   ],
   "source": [
    "drive.mount('/content/drive')"
   ]
  },
  {
   "cell_type": "code",
   "execution_count": 4,
   "metadata": {
    "id": "m96QN9bxFCwU"
   },
   "outputs": [],
   "source": [
    "import numpy as np\n",
    "import os\n",
    "import PIL\n",
    "import tensorflow as tf\n",
    "from skimage import io\n",
    "from PIL import Image\n",
    "import random\n",
    "import cv2\n",
    "import matplotlib.pyplot as plt"
   ]
  },
  {
   "cell_type": "code",
   "execution_count": null,
   "metadata": {
    "colab": {
     "base_uri": "https://localhost:8080/"
    },
    "id": "psYFk2K6ErGT",
    "outputId": "b5d22389-96e4-4b68-97b4-d775baf62ae2"
   },
   "outputs": [
    {
     "name": "stdout",
     "output_type": "stream",
     "text": [
      "['Field Cricket', 'Jute Stem Weevil', 'Spilosoma Obliqua', 'Yellow Mite', 'random_insect_data', 'test.csv']\n"
     ]
    }
   ],
   "source": [
    "import warnings\n",
    "warnings.filterwarnings('ignore')\n",
    "# Get all the paths\n",
    "data_dir_list = os.listdir('/content/drive/MyDrive/jute_insect_classification/insect_aug_data')\n",
    "print(data_dir_list)\n",
    "path, dirs, files = next(os.walk(\"/content/drive/MyDrive/jute_insect_classification/insect_aug_data\"))\n",
    "file_count = len(files)\n",
    "# print(file_count)"
   ]
  },
  {
   "cell_type": "code",
   "execution_count": null,
   "metadata": {
    "colab": {
     "base_uri": "https://localhost:8080/",
     "height": 35
    },
    "id": "Bzj3e94DXUxH",
    "outputId": "424a52ed-970a-4163-aac9-b242c0c68613"
   },
   "outputs": [
    {
     "data": {
      "application/vnd.google.colaboratory.intrinsic+json": {
       "type": "string"
      },
      "text/plain": [
       "\"\\n# Make new base directory\\noriginal_dataset_dir = '/content/drive/MyDrive/jute insect classification/insect_aug_data'\\nbase_dir = '/content/drive/MyDrive/insect_data_all'\\nos.mkdir(base_dir)\""
      ]
     },
     "execution_count": 5,
     "metadata": {},
     "output_type": "execute_result"
    }
   ],
   "source": [
    "'''\n",
    "# Make new base directory\n",
    "original_dataset_dir = '/content/drive/MyDrive/jute insect classification/insect_aug_data'\n",
    "base_dir = '/content/drive/MyDrive/insect_data_all'\n",
    "os.mkdir(base_dir)'''"
   ]
  },
  {
   "cell_type": "code",
   "execution_count": null,
   "metadata": {
    "colab": {
     "base_uri": "https://localhost:8080/",
     "height": 100
    },
    "id": "QhBq8I9YX93J",
    "outputId": "436206b6-b005-4adc-8ea9-a41fd8dc5b0c"
   },
   "outputs": [
    {
     "data": {
      "application/vnd.google.colaboratory.intrinsic+json": {
       "type": "string"
      },
      "text/plain": [
       "\"\\n#create two folders (train and validation)\\ntrain_dir = os.path.join(base_dir, 'train')\\nos.mkdir(train_dir)\\n\\nvalidation_dir = os.path.join(base_dir, 'validation')\\nos.mkdir(validation_dir)\\n\\n#Under train folder create five folders \\n# (cloud, folly, rainy, shine, sunrise)\\n\\ntrain_cloud_dir = os.path.join(train_dir, 'Jute Stem Weevil')\\nos.mkdir(train_cloud_dir)\\n\\ntrain_foggy_dir = os.path.join(train_dir, 'Field Cricket')\\nos.mkdir(train_foggy_dir)\\n\\ntrain_rainy_dir = os.path.join(train_dir, 'Yellow Mite')\\nos.mkdir(train_rainy_dir)\\n\\ntrain_shine_dir = os.path.join(train_dir, 'Spilosoma Obliqua')\\nos.mkdir(train_shine_dir)\\n\\n#Under validation folder create five folders \\n# (cloud, folly, rainy, shine, sunrise)\\n\\nvalidation_cloud_dir = os.path.join(validation_dir, 'Jute Stem Weevil')\\nos.mkdir(validation_cloud_dir)\\n\\nvalidation_foggy_dir = os.path.join(validation_dir, 'Field Cricket')\\nos.mkdir(validation_foggy_dir)\\n\\nvalidation_rainy_dir = os.path.join(validation_dir, 'Yellow Mite')\\nos.mkdir(validation_rainy_dir)\\n\\nvalidation_rainy_dir = os.path.join(validation_dir, 'Spilosoma Obliqua')\\nos.mkdir(validation_rainy_dir)\\n\""
      ]
     },
     "execution_count": 6,
     "metadata": {},
     "output_type": "execute_result"
    }
   ],
   "source": [
    "'''\n",
    "#create two folders (train and validation)\n",
    "train_dir = os.path.join(base_dir, 'train')\n",
    "os.mkdir(train_dir)\n",
    "\n",
    "validation_dir = os.path.join(base_dir, 'validation')\n",
    "os.mkdir(validation_dir)\n",
    "\n",
    "#Under train folder create four folders \n",
    "# (Jute Stem Weevil, Field Cricket, Yellow Mite, Spilosoma Obliqua)\n",
    "\n",
    "train_Jute Stem Weevil_dir = os.path.join(train_dir, 'Jute Stem Weevil')\n",
    "os.mkdir(train_Jute Stem Weevil_dir)\n",
    "\n",
    "train_Field Cricket_dir = os.path.join(train_dir, 'Field Cricket')\n",
    "os.mkdir(train_Field Cricket_dir)\n",
    "\n",
    "train_Yellow Mite_dir = os.path.join(train_dir, 'Yellow Mite')\n",
    "os.mkdir(train_Yellow Mite_dir)\n",
    "\n",
    "train_Spilosoma Obliqua_dir = os.path.join(train_dir, 'Spilosoma Obliqua')\n",
    "os.mkdir(train_Spilosoma Obliqua_dir)\n",
    "\n",
    "#Under validation folder create four folders \n",
    "# (Jute Stem Weevil, Field Cricket, Yellow Mite, Spilosoma Obliqua)\n",
    "\n",
    "validation_Jute Stem Weevil_dir = os.path.join(validation_dir, 'Jute Stem Weevil')\n",
    "os.mkdir(validation_Jute Stem Weevil_dir)\n",
    "\n",
    "validation_Field Cricket_dir = os.path.join(validation_dir, 'Field Cricket')\n",
    "os.mkdir(validation_Field Cricket_dir)\n",
    "\n",
    "validation_Yellow Mite_dir = os.path.join(validation_dir, 'Yellow Mite')\n",
    "os.mkdir(validation_Yellow Mite_dir)\n",
    "\n",
    "validation_Spilosoma Obliqua_dir = os.path.join(validation_dir, 'Spilosoma Obliqua')\n",
    "os.mkdir(validation_Spilosoma Obliqua_dir)\n",
    "'''"
   ]
  },
  {
   "cell_type": "code",
   "execution_count": null,
   "metadata": {
    "colab": {
     "base_uri": "https://localhost:8080/",
     "height": 100
    },
    "id": "emGVNZcBY2EQ",
    "outputId": "9a3fc6e8-d610-42ed-c8d6-34e7f815fc14"
   },
   "outputs": [
    {
     "data": {
      "application/vnd.google.colaboratory.intrinsic+json": {
       "type": "string"
      },
      "text/plain": [
       "'\\ndef split_data(SOURCE, TRAINING, VALIDATION, SPLIT_SIZE):\\n    files = []\\n    for filename in os.listdir(SOURCE):\\n        file = SOURCE + filename\\n        if os.path.getsize(file) > 0:\\n            files.append(filename)\\n        else:\\n            print(filename + \" is zero length, so ignoring.\")\\n\\n    training_length = int(len(files) * SPLIT_SIZE)\\n    valid_length = int(len(files) - training_length)\\n    shuffled_set = random.sample(files, len(files))\\n    training_set = shuffled_set[0:training_length]\\n    valid_set = shuffled_set[training_length:]\\n\\n    for filename in training_set:\\n        this_file = SOURCE + filename\\n        destination = TRAINING + filename\\n        copyfile(this_file, destination)\\n\\n    for filename in valid_set:\\n        this_file = SOURCE + filename\\n        destination = VALIDATION + filename\\n        copyfile(this_file, destination)\\n        '"
      ]
     },
     "execution_count": 7,
     "metadata": {},
     "output_type": "execute_result"
    }
   ],
   "source": [
    "'''\n",
    "def split_data(SOURCE, TRAINING, VALIDATION, SPLIT_SIZE):\n",
    "    files = []\n",
    "    for filename in os.listdir(SOURCE):\n",
    "        file = SOURCE + filename\n",
    "        if os.path.getsize(file) > 0:\n",
    "            files.append(filename)\n",
    "        else:\n",
    "            print(filename + \" is zero length, so ignoring.\")\n",
    "\n",
    "    training_length = int(len(files) * SPLIT_SIZE)\n",
    "    valid_length = int(len(files) - training_length)\n",
    "    shuffled_set = random.sample(files, len(files))\n",
    "    training_set = shuffled_set[0:training_length]\n",
    "    valid_set = shuffled_set[training_length:]\n",
    "\n",
    "    for filename in training_set:\n",
    "        this_file = SOURCE + filename\n",
    "        destination = TRAINING + filename\n",
    "        copyfile(this_file, destination)\n",
    "\n",
    "    for filename in valid_set:\n",
    "        this_file = SOURCE + filename\n",
    "        destination = VALIDATION + filename\n",
    "        copyfile(this_file, destination)\n",
    "        '''"
   ]
  },
  {
   "cell_type": "code",
   "execution_count": null,
   "metadata": {
    "colab": {
     "base_uri": "https://localhost:8080/",
     "height": 100
    },
    "id": "KMPm0qReZMmS",
    "outputId": "b82d08e4-fe2c-4fcd-fca0-3123336117e3"
   },
   "outputs": [
    {
     "data": {
      "application/vnd.google.colaboratory.intrinsic+json": {
       "type": "string"
      },
      "text/plain": [
       "\"\\nJSW_SOURCE_DIR = '/content/drive/MyDrive/jute insect classification/insect_aug_data/Jute Stem Weevil/'\\nTRAINING_JSW_DIR = '/content/drive/MyDrive/insect_data_all/train/Jute Stem Weevil/'\\nVALID_JSW_DIR = '/content/drive/MyDrive/insect_data_all/validation/Jute Stem Weevil/'\\n\\nFC_SOURCE_DIR = '/content/drive/MyDrive/jute insect classification/insect_aug_data/Field Cricket/'\\nTRAINING_FC_DIR = '/content/drive/MyDrive/insect_data_all/train/Field Cricket/'\\nVALID_FC_DIR = '/content/drive/MyDrive/insect_data_all/validation/Field Cricket/'\\n\\nYM_SOURCE_DIR = '/content/drive/MyDrive/jute insect classification/insect_aug_data/Yellow Mite/'\\nTRAINING_YM_DIR = '/content/drive/MyDrive/insect_data_all/train/Yellow Mite/'\\nVALID_YM_DIR = '/content/drive/MyDrive/insect_data_all/validation/Yellow Mite/'\\n\\nSO_SOURCE_DIR = '/content/drive/MyDrive/jute insect classification/insect_aug_data/Spilosoma Obliqua/'\\nTRAINING_SO_DIR = '/content/drive/MyDrive/insect_data_all/train/Spilosoma Obliqua/'\\nVALID_SO_DIR = '/content/drive/MyDrive/insect_data_all/validation/Spilosoma Obliqua/'\\n\""
      ]
     },
     "execution_count": 8,
     "metadata": {},
     "output_type": "execute_result"
    }
   ],
   "source": [
    "'''\n",
    "JSW_SOURCE_DIR = '/content/drive/MyDrive/jute insect classification/insect_aug_data/Jute Stem Weevil/'\n",
    "TRAINING_JSW_DIR = '/content/drive/MyDrive/insect_data_all/train/Jute Stem Weevil/'\n",
    "VALID_JSW_DIR = '/content/drive/MyDrive/insect_data_all/validation/Jute Stem Weevil/'\n",
    "\n",
    "FC_SOURCE_DIR = '/content/drive/MyDrive/jute insect classification/insect_aug_data/Field Cricket/'\n",
    "TRAINING_FC_DIR = '/content/drive/MyDrive/insect_data_all/train/Field Cricket/'\n",
    "VALID_FC_DIR = '/content/drive/MyDrive/insect_data_all/validation/Field Cricket/'\n",
    "\n",
    "YM_SOURCE_DIR = '/content/drive/MyDrive/jute insect classification/insect_aug_data/Yellow Mite/'\n",
    "TRAINING_YM_DIR = '/content/drive/MyDrive/insect_data_all/train/Yellow Mite/'\n",
    "VALID_YM_DIR = '/content/drive/MyDrive/insect_data_all/validation/Yellow Mite/'\n",
    "\n",
    "SO_SOURCE_DIR = '/content/drive/MyDrive/jute insect classification/insect_aug_data/Spilosoma Obliqua/'\n",
    "TRAINING_SO_DIR = '/content/drive/MyDrive/insect_data_all/train/Spilosoma Obliqua/'\n",
    "VALID_SO_DIR = '/content/drive/MyDrive/insect_data_all/validation/Spilosoma Obliqua/'\n",
    "'''"
   ]
  },
  {
   "cell_type": "code",
   "execution_count": null,
   "metadata": {
    "colab": {
     "base_uri": "https://localhost:8080/",
     "height": 51
    },
    "id": "8xizjUNNbKD7",
    "outputId": "ca85b7d8-ebeb-4f97-c649-c60a6c110df7"
   },
   "outputs": [
    {
     "data": {
      "application/vnd.google.colaboratory.intrinsic+json": {
       "type": "string"
      },
      "text/plain": [
       "'\\nimport os\\nimport random\\nfrom shutil import copyfile\\n\\nsplit_size = .90\\n\\nsplit_data(JSW_SOURCE_DIR, TRAINING_JSW_DIR, VALID_JSW_DIR, split_size)\\nsplit_data(FC_SOURCE_DIR, TRAINING_FC_DIR, VALID_FC_DIR, split_size)\\nsplit_data(YM_SOURCE_DIR, TRAINING_YM_DIR, VALID_YM_DIR, split_size)\\nsplit_data(SO_SOURCE_DIR, TRAINING_SO_DIR, VALID_SO_DIR, split_size)\\n'"
      ]
     },
     "execution_count": 9,
     "metadata": {},
     "output_type": "execute_result"
    }
   ],
   "source": [
    "'''\n",
    "import os\n",
    "import random\n",
    "from shutil import copyfile\n",
    "\n",
    "split_size = .90\n",
    "\n",
    "split_data(JSW_SOURCE_DIR, TRAINING_JSW_DIR, VALID_JSW_DIR, split_size)\n",
    "split_data(FC_SOURCE_DIR, TRAINING_FC_DIR, VALID_FC_DIR, split_size)\n",
    "split_data(YM_SOURCE_DIR, TRAINING_YM_DIR, VALID_YM_DIR, split_size)\n",
    "split_data(SO_SOURCE_DIR, TRAINING_SO_DIR, VALID_SO_DIR, split_size)\n",
    "'''"
   ]
  },
  {
   "cell_type": "code",
   "execution_count": 5,
   "metadata": {
    "colab": {
     "base_uri": "https://localhost:8080/",
     "height": 390
    },
    "id": "jwIqtZppcG1Z",
    "outputId": "19baf674-291b-4459-8c03-aa07b4723bd4"
   },
   "outputs": [
    {
     "data": {
      "image/png": "[encoded data removed]",
      "text/plain": [
       "<Figure size 648x432 with 1 Axes>"
      ]
     },
     "metadata": {
      "needs_background": "light"
     },
     "output_type": "display_data"
    }
   ],
   "source": [
    "import matplotlib.pyplot as plt\n",
    "import seaborn as sns\n",
    "from matplotlib.image import imread\n",
    "import pathlib\n",
    "\n",
    "image_folder = [ 'Field Cricket','Jute Stem Weevil', 'Spilosoma Obliqua', 'Yellow Mite']\n",
    "nimgs = {}\n",
    "for i in image_folder:\n",
    "    nimages = len(os.listdir('/content/drive/MyDrive/insect_data_all/train/'+i+'/'))\n",
    "    nimgs[i]=nimages\n",
    "plt.figure(figsize=(9, 6))\n",
    "plt.bar(range(len(nimgs)), list(nimgs.values()), align='center')\n",
    "plt.xticks(range(len(nimgs)), list(nimgs.keys()))\n",
    "plt.title('Distribution of different classes in Training Dataset')\n",
    "plt.show()"
   ]
  },
  {
   "cell_type": "code",
   "execution_count": 6,
   "metadata": {
    "colab": {
     "base_uri": "https://localhost:8080/"
    },
    "id": "1vDJIdXve_77",
    "outputId": "790d706b-9099-4330-c96e-b6936040fe95"
   },
   "outputs": [
    {
     "name": "stdout",
     "output_type": "stream",
     "text": [
      "Training Field Cricket images are: 347\n",
      "Training Jute Stem Weevil images are: 324\n",
      "Training Spilosoma Obliqua images are: 390\n",
      "Training Yellow Mite images are: 329\n"
     ]
    }
   ],
   "source": [
    "\n",
    "for i in ['Field Cricket','Jute Stem Weevil', 'Spilosoma Obliqua', 'Yellow Mite']:\n",
    "    print('Training {} images are: '.format(i)+str(len(os.listdir('/content/drive/MyDrive/insect_data_all/train/'+i+'/'))))"
   ]
  },
  {
   "cell_type": "code",
   "execution_count": 7,
   "metadata": {
    "colab": {
     "base_uri": "https://localhost:8080/",
     "height": 390
    },
    "id": "74zc2ks0f6P-",
    "outputId": "9795bd32-9809-4de3-c431-5f29912703a4"
   },
   "outputs": [
    {
     "data": {
      "image/png": "[encoded data removed]",
      "text/plain": [
       "<Figure size 648x432 with 1 Axes>"
      ]
     },
     "metadata": {
      "needs_background": "light"
     },
     "output_type": "display_data"
    }
   ],
   "source": [
    "image_folder = [ 'Field Cricket','Jute Stem Weevil', 'Spilosoma Obliqua', 'Yellow Mite']\n",
    "nimgs = {}\n",
    "for i in image_folder:\n",
    "    nimages = len(os.listdir('/content/drive/MyDrive/insect_data_all/validation/'+i+'/'))\n",
    "    nimgs[i]=nimages\n",
    "plt.figure(figsize=(9, 6))\n",
    "plt.bar(range(len(nimgs)), list(nimgs.values()), align='center')\n",
    "plt.xticks(range(len(nimgs)), list(nimgs.keys()))\n",
    "plt.title('Distribution of different classes in Validation Dataset')\n",
    "plt.show()"
   ]
  },
  {
   "cell_type": "code",
   "execution_count": 8,
   "metadata": {
    "colab": {
     "base_uri": "https://localhost:8080/"
    },
    "id": "quUBp8kngJoR",
    "outputId": "ac29adb8-343e-4538-84bf-009d2214de5b"
   },
   "outputs": [
    {
     "name": "stdout",
     "output_type": "stream",
     "text": [
      "Validation Field Cricket images are: 33\n",
      "Validation Jute Stem Weevil images are: 36\n",
      "Validation Spilosoma Obliqua images are: 39\n",
      "Validation Yellow Mite images are: 37\n"
     ]
    }
   ],
   "source": [
    "for i in [ 'Field Cricket','Jute Stem Weevil', 'Spilosoma Obliqua', 'Yellow Mite']:\n",
    "    print('Validation {} images are: '.format(i)+str(len(os.listdir('/content/drive/MyDrive/insect_data_all/validation/'+i+'/'))))"
   ]
  },
  {
   "cell_type": "code",
   "execution_count": 9,
   "metadata": {
    "id": "LjrnJ8bvgzF0"
   },
   "outputs": [],
   "source": [
    "image_size=224\n",
    "batch_size=64"
   ]
  },
  {
   "cell_type": "code",
   "execution_count": 10,
   "metadata": {
    "colab": {
     "base_uri": "https://localhost:8080/"
    },
    "id": "R1Vp7WlQg2qt",
    "outputId": "08b89d9d-4b45-470d-fe9f-15c615a9a885"
   },
   "outputs": [
    {
     "name": "stdout",
     "output_type": "stream",
     "text": [
      "Found 1390 images belonging to 4 classes.\n"
     ]
    }
   ],
   "source": [
    "TRAINING_DIR = '/content/drive/MyDrive/insect_data_all/train/'\n",
    "\n",
    "\n",
    "train_datagen=tf.keras.preprocessing.image.ImageDataGenerator(\n",
    "\n",
    "    \n",
    "    rescale=1./255,\n",
    "    zoom_range=0.2,\n",
    "    horizontal_flip=True)\n",
    "\n",
    "train_generator = train_datagen.flow_from_directory(TRAINING_DIR,\n",
    "                                                    batch_size=batch_size,\n",
    "                                                    target_size=(image_size,image_size)\n",
    "                                                    \n",
    "                                                    )\n",
    "\n"
   ]
  },
  {
   "cell_type": "code",
   "execution_count": 11,
   "metadata": {
    "colab": {
     "base_uri": "https://localhost:8080/"
    },
    "id": "vd39fSpghnWI",
    "outputId": "10a4a161-e2ff-4769-e89f-82e623dcfd6e"
   },
   "outputs": [
    {
     "name": "stdout",
     "output_type": "stream",
     "text": [
      "Found 145 images belonging to 4 classes.\n"
     ]
    }
   ],
   "source": [
    "VALIDATION_DIR = '/content/drive/MyDrive/insect_data_all/validation/'\n",
    "\n",
    "validation_datagen=tf.keras.preprocessing.image.ImageDataGenerator(\n",
    "    rescale=1./255)\n",
    "\n",
    "validation_generator=validation_datagen.flow_from_directory(VALIDATION_DIR,\n",
    "                                                              batch_size=batch_size,\n",
    "                                                              target_size=(image_size,image_size)\n",
    "                                                              \n",
    "                                                             )"
   ]
  },
  {
   "cell_type": "code",
   "execution_count": 12,
   "metadata": {
    "id": "6BPuKzCMgunN"
   },
   "outputs": [],
   "source": [
    "#Step 3. Deep Learning with Data Augumentation\n",
    "\n",
    "from tensorflow.keras.optimizers import Adam\n",
    "from tensorflow.keras.preprocessing.image import ImageDataGenerator\n",
    "from tensorflow.keras.models import Sequential\n",
    "from tensorflow.keras.callbacks import EarlyStopping, ModelCheckpoint\n",
    "\n",
    "from tensorflow.keras.layers import Input, Flatten, Dense\n",
    "from tensorflow.keras.models import Model\n",
    "from tensorflow.keras.applications.vgg19 import VGG19\n",
    "from glob import glob\n",
    "from tensorflow import keras"
   ]
  },
  {
   "cell_type": "code",
   "execution_count": 13,
   "metadata": {
    "colab": {
     "base_uri": "https://localhost:8080/"
    },
    "id": "e78347e0",
    "outputId": "daa6ad00-6e08-4a11-8cbc-d51dd833f92e"
   },
   "outputs": [
    {
     "name": "stdout",
     "output_type": "stream",
     "text": [
      "Downloading data from https://storage.googleapis.com/tensorflow/keras-applications/vgg19/vgg19_weights_tf_dim_ordering_tf_kernels_notop.h5\n",
      "80142336/80134624 [==============================] - 1s 0us/step\n",
      "80150528/80134624 [==============================] - 1s 0us/step\n"
     ]
    },
    {
     "data": {
      "text/plain": [
       "<KerasTensor: shape=(None, 7, 7, 512) dtype=float32 (created by layer 'block5_pool')>"
      ]
     },
     "execution_count": 13,
     "metadata": {},
     "output_type": "execute_result"
    }
   ],
   "source": [
    "#in vgg19, image size must be 224*224\n",
    "image_size=[224,224]\n",
    "vgg=VGG19(input_shape=image_size+[3], weights='imagenet', include_top=False)\n",
    "vgg.output"
   ]
  },
  {
   "cell_type": "code",
   "execution_count": 14,
   "metadata": {
    "id": "aa16705e"
   },
   "outputs": [],
   "source": [
    "#we will not going to train vgg layers\n",
    "for layer in vgg.layers:\n",
    "    layer.trainable=False"
   ]
  },
  {
   "cell_type": "code",
   "execution_count": 15,
   "metadata": {
    "colab": {
     "base_uri": "https://localhost:8080/"
    },
    "id": "07548abe",
    "outputId": "d13c8d46-ab4f-4318-e0fd-2f54e3ecf9a1"
   },
   "outputs": [
    {
     "name": "stdout",
     "output_type": "stream",
     "text": [
      "4\n"
     ]
    }
   ],
   "source": [
    "#to make the vgg16 recognise our dataclass from folders/directory\n",
    "folders=glob(r\"/content/drive/MyDrive/insect_data_all/train/*\")\n",
    "folders=glob(r\"/content/drive/MyDrive/insect_data_all/validation/*\")\n",
    "print(len(folders))"
   ]
  },
  {
   "cell_type": "code",
   "execution_count": 16,
   "metadata": {
    "colab": {
     "base_uri": "https://localhost:8080/"
    },
    "id": "718caf19",
    "outputId": "dff1344b-8b3c-4657-80ab-393cfe4e6ddb"
   },
   "outputs": [
    {
     "name": "stdout",
     "output_type": "stream",
     "text": [
      "Model: \"model\"\n",
      "_________________________________________________________________\n",
      "Layer (type)                 Output Shape              Param #   \n",
      "=================================================================\n",
      "input_1 (InputLayer)         [(None, 224, 224, 3)]     0         \n",
      "_________________________________________________________________\n",
      "block1_conv1 (Conv2D)        (None, 224, 224, 64)      1792      \n",
      "_________________________________________________________________\n",
      "block1_conv2 (Conv2D)        (None, 224, 224, 64)      36928     \n",
      "_________________________________________________________________\n",
      "block1_pool (MaxPooling2D)   (None, 112, 112, 64)      0         \n",
      "_________________________________________________________________\n",
      "block2_conv1 (Conv2D)        (None, 112, 112, 128)     73856     \n",
      "_________________________________________________________________\n",
      "block2_conv2 (Conv2D)        (None, 112, 112, 128)     147584    \n",
      "_________________________________________________________________\n",
      "block2_pool (MaxPooling2D)   (None, 56, 56, 128)       0         \n",
      "_________________________________________________________________\n",
      "block3_conv1 (Conv2D)        (None, 56, 56, 256)       295168    \n",
      "_________________________________________________________________\n",
      "block3_conv2 (Conv2D)        (None, 56, 56, 256)       590080    \n",
      "_________________________________________________________________\n",
      "block3_conv3 (Conv2D)        (None, 56, 56, 256)       590080    \n",
      "_________________________________________________________________\n",
      "block3_conv4 (Conv2D)        (None, 56, 56, 256)       590080    \n",
      "_________________________________________________________________\n",
      "block3_pool (MaxPooling2D)   (None, 28, 28, 256)       0         \n",
      "_________________________________________________________________\n",
      "block4_conv1 (Conv2D)        (None, 28, 28, 512)       1180160   \n",
      "_________________________________________________________________\n",
      "block4_conv2 (Conv2D)        (None, 28, 28, 512)       2359808   \n",
      "_________________________________________________________________\n",
      "block4_conv3 (Conv2D)        (None, 28, 28, 512)       2359808   \n",
      "_________________________________________________________________\n",
      "block4_conv4 (Conv2D)        (None, 28, 28, 512)       2359808   \n",
      "_________________________________________________________________\n",
      "block4_pool (MaxPooling2D)   (None, 14, 14, 512)       0         \n",
      "_________________________________________________________________\n",
      "block5_conv1 (Conv2D)        (None, 14, 14, 512)       2359808   \n",
      "_________________________________________________________________\n",
      "block5_conv2 (Conv2D)        (None, 14, 14, 512)       2359808   \n",
      "_________________________________________________________________\n",
      "block5_conv3 (Conv2D)        (None, 14, 14, 512)       2359808   \n",
      "_________________________________________________________________\n",
      "block5_conv4 (Conv2D)        (None, 14, 14, 512)       2359808   \n",
      "_________________________________________________________________\n",
      "block5_pool (MaxPooling2D)   (None, 7, 7, 512)         0         \n",
      "_________________________________________________________________\n",
      "flatten (Flatten)            (None, 25088)             0         \n",
      "_________________________________________________________________\n",
      "dense (Dense)                (None, 4)                 100356    \n",
      "=================================================================\n",
      "Total params: 20,124,740\n",
      "Trainable params: 100,356\n",
      "Non-trainable params: 20,024,384\n",
      "_________________________________________________________________\n"
     ]
    }
   ],
   "source": [
    "x=Flatten()(vgg.output)\n",
    "prediction=Dense(len(folders),activation='softmax')(x) #we can add more dense layer in here to increase accuracy #Softmax computes the probability that the input belongs to a particular class, for each class. The values in each row summate to 1 – or 100%, which is a characteristic of a valid probability distribution.\n",
    "model=Model(inputs=vgg.input, outputs=prediction)\n",
    "model.summary()"
   ]
  },
  {
   "cell_type": "code",
   "execution_count": 17,
   "metadata": {
    "id": "d9821d22"
   },
   "outputs": [],
   "source": [
    "#model_train\n",
    "model.compile(optimizer=tf.keras.optimizers.Adam(), \n",
    "              loss='categorical_crossentropy', \n",
    "              metrics=['accuracy']) #loss='binary/sparse_crossentropy'\n",
    "#cnn.compile(optimizer=tf.keras.optimizers.Adam(),loss='categorical_crossentropy',metrics=['accuracy'])"
   ]
  },
  {
   "cell_type": "code",
   "execution_count": null,
   "metadata": {
    "colab": {
     "base_uri": "https://localhost:8080/",
     "height": 522
    },
    "id": "f98da3b4",
    "outputId": "35dbd30c-9bbc-458f-accf-fe646f04f95d"
   },
   "outputs": [
    {
     "name": "stdout",
     "output_type": "stream",
     "text": [
      "Epoch 1/15\n",
      "22/22 [==============================] - 677s 30s/step - loss: 1.6677 - accuracy: 0.4482 - val_loss: 0.7012 - val_accuracy: 0.6828\n",
      "Epoch 2/15\n",
      "22/22 [==============================] - 623s 28s/step - loss: 0.5741 - accuracy: 0.7871 - val_loss: 0.4577 - val_accuracy: 0.8483\n",
      "Epoch 3/15\n",
      "22/22 [==============================] - 615s 28s/step - loss: 0.3363 - accuracy: 0.9000 - val_loss: 0.3428 - val_accuracy: 0.9034\n",
      "Epoch 4/15\n",
      "22/22 [==============================] - 620s 28s/step - loss: 0.2406 - accuracy: 0.9453 - val_loss: 0.3018 - val_accuracy: 0.9103\n",
      "Epoch 5/15\n",
      "22/22 [==============================] - 587s 27s/step - loss: 0.2028 - accuracy: 0.9612 - val_loss: 0.2430 - val_accuracy: 0.9517\n",
      "Epoch 6/15\n",
      "22/22 [==============================] - 588s 27s/step - loss: 0.1760 - accuracy: 0.9676 - val_loss: 0.2154 - val_accuracy: 0.9517\n",
      "Epoch 7/15\n",
      "22/22 [==============================] - 631s 29s/step - loss: 0.1600 - accuracy: 0.9669 - val_loss: 0.2434 - val_accuracy: 0.9517\n",
      "Epoch 8/15\n",
      "22/22 [==============================] - 593s 27s/step - loss: 0.1202 - accuracy: 0.9806 - val_loss: 0.1911 - val_accuracy: 0.9586\n",
      "Epoch 9/15\n",
      "22/22 [==============================] - 594s 27s/step - loss: 0.0972 - accuracy: 0.9863 - val_loss: 0.1747 - val_accuracy: 0.9517\n",
      "Epoch 10/15\n",
      "22/22 [==============================] - 620s 28s/step - loss: 0.0804 - accuracy: 0.9914 - val_loss: 0.1794 - val_accuracy: 0.9517\n",
      "Epoch 11/15\n",
      "22/22 [==============================] - 620s 28s/step - loss: 0.0804 - accuracy: 0.9935 - val_loss: 0.1803 - val_accuracy: 0.9448\n",
      "Epoch 12/15\n",
      "22/22 [==============================] - 631s 29s/step - loss: 0.0689 - accuracy: 0.9935 - val_loss: 0.1529 - val_accuracy: 0.9655\n",
      "Epoch 13/15\n",
      "22/22 [==============================] - 611s 28s/step - loss: 0.0664 - accuracy: 0.9957 - val_loss: 0.1340 - val_accuracy: 0.9586\n",
      "Epoch 14/15\n",
      "22/22 [==============================] - 605s 28s/step - loss: 0.0537 - accuracy: 0.9957 - val_loss: 0.1325 - val_accuracy: 0.9586\n",
      "Epoch 15/15\n",
      "22/22 [==============================] - 567s 26s/step - loss: 0.0506 - accuracy: 0.9950 - val_loss: 0.1227 - val_accuracy: 0.9586\n"
     ]
    },
    {
     "data": {
      "application/vnd.google.colaboratory.intrinsic+json": {
       "type": "string"
      },
      "text/plain": [
       "'model.fit(train_generator,epochs=4,validation_data=validation_generator)'"
      ]
     },
     "execution_count": 23,
     "metadata": {},
     "output_type": "execute_result"
    }
   ],
   "source": [
    "\n",
    "epochs=15\n",
    "\n",
    "history= model.fit(train_generator,\n",
    "                  steps_per_epoch=len(train_generator),\n",
    "                  epochs=epochs,\n",
    "                  validation_data=validation_generator,\n",
    "                 )\n",
    "                \n",
    "\"\"\"model.fit(train_generator,epochs=4,validation_data=validation_generator)\"\"\""
   ]
  },
  {
   "cell_type": "code",
   "execution_count": null,
   "metadata": {
    "colab": {
     "base_uri": "https://localhost:8080/",
     "height": 473
    },
    "id": "aGikZNuTtJ_O",
    "outputId": "7813005d-5e90-4d45-d8ec-68a6acc52a73"
   },
   "outputs": [
    {
     "data": {
      "text/plain": [
       "<function matplotlib.pyplot.show>"
      ]
     },
     "execution_count": 24,
     "metadata": {},
     "output_type": "execute_result"
    },
    {
     "data": {
      "image/png": "[encoded data removed]",
      "text/plain": [
       "<Figure size 1008x504 with 1 Axes>"
      ]
     },
     "metadata": {
      "needs_background": "light"
     },
     "output_type": "display_data"
    }
   ],
   "source": [
    "acc=history.history['accuracy']\n",
    "val_acc=history.history['val_accuracy']\n",
    "loss=history.history['loss']\n",
    "val_loss=history.history['val_loss']\n",
    "\n",
    "epochs=range(len(acc))\n",
    "\n",
    "fig = plt.figure(figsize=(14,7))\n",
    "plt.plot(epochs, acc, 'r', label=\"Training Accuracy\")\n",
    "plt.plot(epochs, val_acc, 'b', label=\"Validation Accuracy\")\n",
    "plt.xlabel('Epoch')\n",
    "plt.ylabel('Accuracy')\n",
    "plt.title('Training and validation accuracy')\n",
    "plt.legend(loc='lower right')\n",
    "plt.show"
   ]
  },
  {
   "cell_type": "code",
   "execution_count": null,
   "metadata": {
    "colab": {
     "base_uri": "https://localhost:8080/",
     "height": 473
    },
    "id": "fuBNVXRMt2TI",
    "outputId": "988f5c58-ff69-412c-fcba-8fab4d8cb9b2"
   },
   "outputs": [
    {
     "data": {
      "text/plain": [
       "Text(0.5, 1.0, 'Training and validation loss')"
      ]
     },
     "execution_count": 25,
     "metadata": {},
     "output_type": "execute_result"
    },
    {
     "data": {
      "image/png": "[encoded data removed]",
      "text/plain": [
       "<Figure size 1008x504 with 1 Axes>"
      ]
     },
     "metadata": {
      "needs_background": "light"
     },
     "output_type": "display_data"
    }
   ],
   "source": [
    "fig2 = plt.figure(figsize=(14,7))\n",
    "plt.plot(epochs, loss, 'r', label=\"Training Loss\")\n",
    "plt.plot(epochs, val_loss, 'b', label=\"Validation Loss\")\n",
    "plt.legend(loc='upper right')\n",
    "plt.xlabel('Epoch')\n",
    "plt.ylabel('Loss')\n",
    "plt.title('Training and validation loss')"
   ]
  },
  {
   "cell_type": "code",
   "execution_count": null,
   "metadata": {
    "id": "Q8lAyhk9ut3V"
   },
   "outputs": [],
   "source": [
    "## Test Performance on Test Data\n",
    "import pandas as pd\n",
    "from keras.preprocessing.image import load_img, img_to_array\n",
    "\n",
    "def preprocess_image(path):\n",
    "    img = load_img(path, target_size = (image_size, image_size))\n",
    "    a = img_to_array(img)\n",
    "    a = np.expand_dims(a, axis = 0)\n",
    "    a /= 255.\n",
    "    return a"
   ]
  },
  {
   "cell_type": "code",
   "execution_count": null,
   "metadata": {
    "id": "f1fpWvC3u-E-"
   },
   "outputs": [],
   "source": [
    "#Step 4. Checking performance on Test Data (Out of the sample)\n",
    "\n",
    "# Read Test Images Dir and their labels\n",
    "test_images_dir = r'/content/drive/MyDrive/jute_insect_classification/insect_aug_data/random_insect_data/'\n",
    "test_df = pd.read_csv('/content/drive/MyDrive/jute_insect_classification/insect_aug_data/test.csv')\n",
    "\n",
    "# put them in a list\n",
    "test_dfToList = test_df['Image_id'].tolist()\n",
    "test_ids = [str(item) for item in test_dfToList]\n",
    "\n",
    "test_images = [test_images_dir+item for item in test_ids]\n",
    "test_preprocessed_images = np.vstack([preprocess_image(fn) for fn in test_images])\n",
    "np.save('/content/drive/MyDrive/test_preproc_CNN.npy', test_preprocessed_images)"
   ]
  },
  {
   "cell_type": "code",
   "execution_count": null,
   "metadata": {
    "colab": {
     "base_uri": "https://localhost:8080/"
    },
    "id": "mBBhhGbNvWb0",
    "outputId": "91f8478f-9111-40f8-f8b8-6a234951a353"
   },
   "outputs": [
    {
     "name": "stdout",
     "output_type": "stream",
     "text": [
      "40/40 [==============================] - 17s 414ms/step\n",
      "[0 0 0 0 0 3 0 0 0 0 1 1 1 1 1 1 1 1 1 1 2 2 2 2 2 2 2 2 2 2 3 3 3 3 3 3 3\n",
      " 3 3 3]\n"
     ]
    }
   ],
   "source": [
    "array = model.predict(test_preprocessed_images, batch_size=1, verbose=1)\n",
    "answer = np.argmax(array, axis=1)\n",
    "print(answer)"
   ]
  },
  {
   "cell_type": "code",
   "execution_count": null,
   "metadata": {
    "colab": {
     "base_uri": "https://localhost:8080/"
    },
    "id": "yKKUF2uivbOW",
    "outputId": "59558654-0d87-4fe6-8107-081ee356717e"
   },
   "outputs": [
    {
     "name": "stdout",
     "output_type": "stream",
     "text": [
      "0     0\n",
      "1     0\n",
      "2     0\n",
      "3     0\n",
      "4     0\n",
      "5     0\n",
      "6     0\n",
      "7     0\n",
      "8     0\n",
      "9     0\n",
      "10    1\n",
      "11    1\n",
      "12    1\n",
      "13    1\n",
      "14    1\n",
      "15    1\n",
      "16    1\n",
      "17    1\n",
      "18    1\n",
      "19    1\n",
      "20    2\n",
      "21    2\n",
      "22    2\n",
      "23    2\n",
      "24    2\n",
      "25    2\n",
      "26    2\n",
      "27    2\n",
      "28    2\n",
      "29    2\n",
      "30    3\n",
      "31    3\n",
      "32    3\n",
      "33    3\n",
      "34    3\n",
      "35    3\n",
      "36    3\n",
      "37    3\n",
      "38    3\n",
      "39    3\n",
      "Name: labels, dtype: int64\n"
     ]
    }
   ],
   "source": [
    "test_df = pd.read_csv('/content/drive/MyDrive/jute_insect_classification/insect_aug_data/test.csv')\n",
    "y_true = test_df['labels']\n",
    "y_pred = array\n",
    "print(y_true)"
   ]
  },
  {
   "cell_type": "code",
   "execution_count": null,
   "metadata": {
    "id": "OLVt1xgLvkoU"
   },
   "outputs": [],
   "source": [
    "from sklearn.metrics import log_loss\n",
    "loss = log_loss(y_true, y_pred, eps=1e-15, normalize=True, sample_weight=None, labels=None)\n",
    "\n"
   ]
  },
  {
   "cell_type": "code",
   "execution_count": null,
   "metadata": {
    "colab": {
     "base_uri": "https://localhost:8080/"
    },
    "id": "aXOPcqUDvrb9",
    "outputId": "97335780-050f-41b7-bcd4-876c3fa9039f"
   },
   "outputs": [
    {
     "data": {
      "text/plain": [
       "array([[ 9,  0,  0,  1],\n",
       "       [ 0, 10,  0,  0],\n",
       "       [ 0,  0, 10,  0],\n",
       "       [ 0,  0,  0, 10]])"
      ]
     },
     "execution_count": 62,
     "metadata": {},
     "output_type": "execute_result"
    }
   ],
   "source": [
    "from sklearn.metrics import confusion_matrix\n",
    "conf_mat = confusion_matrix(y_true, answer)\n",
    "conf_mat"
   ]
  },
  {
   "cell_type": "code",
   "execution_count": null,
   "metadata": {
    "id": "5So7Sprhvt_6"
   },
   "outputs": [],
   "source": [
    "train_dir = '/content/drive/MyDrive/insect_data_all/train/'\n",
    "classes = os.listdir(train_dir)"
   ]
  },
  {
   "cell_type": "code",
   "execution_count": null,
   "metadata": {
    "id": "2xQGnlIqv1PB"
   },
   "outputs": [],
   "source": [
    "import itertools\n",
    "def plot_confusion_matrix(cm, classes,\n",
    "                          normalize=False,\n",
    "                          title='Confusion matrix',\n",
    "                          cmap=plt.cm.Reds):\n",
    "    \"\"\"\n",
    "    This function prints and plots the confusion matrix.\n",
    "    Normalization can be applied by setting `normalize=True`.\n",
    "    \"\"\"\n",
    "    plt.imshow(cm, interpolation='nearest', cmap=cmap)\n",
    "    plt.title(title)\n",
    "    plt.colorbar()\n",
    "    tick_marks = np.arange(len(classes))\n",
    "    plt.xticks(tick_marks, classes, rotation=45)\n",
    "    plt.yticks(tick_marks, classes)\n",
    "\n",
    "    if normalize:\n",
    "        cm = cm.astype('float') / cm.sum(axis=1)[:, np.newaxis]\n",
    "        cm = cm.round(2)\n",
    "        #print(\"Normalized confusion matrix\")\n",
    "    else:\n",
    "        cm=cm\n",
    "        #print('Confusion matrix, without normalization')\n",
    "\n",
    "    #print(cm)\n",
    "\n",
    "    thresh = cm.max() / 2.\n",
    "    for i, j in itertools.product(range(cm.shape[0]), range(cm.shape[1])):\n",
    "        plt.text(j, i, cm[i, j],\n",
    "                 horizontalalignment=\"center\",\n",
    "                 color=\"white\" if cm[i, j] > thresh else \"black\")\n",
    "\n",
    "    plt.tight_layout()\n",
    "    plt.ylabel('True label')\n",
    "    plt.xlabel('Predicted label')"
   ]
  },
  {
   "cell_type": "code",
   "execution_count": null,
   "metadata": {
    "colab": {
     "base_uri": "https://localhost:8080/",
     "height": 446
    },
    "id": "KEjrE4QUv7pB",
    "outputId": "7cb756b3-272e-4704-8af9-61a7aa48b03c"
   },
   "outputs": [
    {
     "data": {
      "image/png": "[encoded data removed]",
      "text/plain": [
       "<Figure size 504x432 with 2 Axes>"
      ]
     },
     "metadata": {
      "needs_background": "light"
     },
     "output_type": "display_data"
    }
   ],
   "source": [
    "np.set_printoptions(precision=2)\n",
    "\n",
    "fig1 = plt.figure(figsize=(7,6))\n",
    "plot_confusion_matrix(conf_mat, classes=classes, title='Confusion matrix, without normalization')\n",
    "plt.show()"
   ]
  },
  {
   "cell_type": "code",
   "execution_count": null,
   "metadata": {
    "id": "aPU67HBlwXHo"
   },
   "outputs": [],
   "source": []
  },
  {
   "cell_type": "markdown",
   "metadata": {
    "id": "Ku9n7G8WwYKd"
   },
   "source": [
    "**THE END**"
   ]
  },
  {
   "cell_type": "code",
   "execution_count": null,
   "metadata": {
    "id": "Gzz3X8C8w-JN"
   },
   "outputs": [],
   "source": [
    "prediction.shape"
   ]
  },
  {
   "cell_type": "code",
   "execution_count": null,
   "metadata": {
    "colab": {
     "base_uri": "https://localhost:8080/"
    },
    "id": "7WhnKlaN1sMi",
    "outputId": "fa56f1c8-06eb-4502-edd8-235933264dbe"
   },
   "outputs": [
    {
     "name": "stdout",
     "output_type": "stream",
     "text": [
      "3/3 [==============================] - 53s 15s/step - loss: 0.1227 - accuracy: 0.9586\n"
     ]
    },
    {
     "data": {
      "text/plain": [
       "[0.12265230715274811, 0.9586206674575806]"
      ]
     },
     "execution_count": 66,
     "metadata": {},
     "output_type": "execute_result"
    }
   ],
   "source": [
    "model.evaluate(validation_generator)"
   ]
  },
  {
   "cell_type": "code",
   "execution_count": 23,
   "metadata": {
    "colab": {
     "base_uri": "https://localhost:8080/"
    },
    "id": "720cf3a3",
    "outputId": "7bf8bcb2-4658-4a20-ae33-96d8e7924b35"
   },
   "outputs": [
    {
     "name": "stdout",
     "output_type": "stream",
     "text": [
      "[[9.0938916e-22 9.9464250e-01 5.3574713e-03 3.4566253e-11]]\n",
      "বিছা পোকা_Spilosoma Obliqua\n"
     ]
    }
   ],
   "source": [
    " #Model Prediction\n",
    "\n",
    "from keras.preprocessing import image\n",
    "import numpy as np\n",
    "\n",
    "img_pred=image.load_img(r\"/content/drive/MyDrive/jute_insect_classification/insect_aug_data/random_insect_data/SO_24.jpg\",target_size=(224,224))\n",
    "\n",
    "img_pred=image.img_to_array(img_pred)\n",
    "img_pred=np.expand_dims(img_pred, axis=0)\n",
    "\n",
    "\n",
    "rslt = model.predict(img_pred)\n",
    "\n",
    "print(rslt)\n",
    "if rslt[0][0]>rslt[0][1]and rslt[0][2]and rslt[0][3]:\n",
    "    prediction=\"উরচুঙ্গা পোকা_Field Cricket\"\n",
    "\n",
    "if rslt[0][1]>rslt[0][0]and rslt[0][2]and rslt[0][3]:\n",
    "    prediction=\"চেলে পোকা_Jute Stem Weevil\"\n",
    "\n",
    "if rslt[0][2]>rslt[0][0]and rslt[0][1]and rslt[0][3]:\n",
    "    prediction=\"বিছা পোকা_Spilosoma Obliqua\"\n",
    "\n",
    "else:\n",
    "    prediction=\"হলুদ মাকড়_Yellow Mit\"\n",
    "print(prediction)\n"
   ]
  },
  {
   "cell_type": "code",
   "execution_count": 24,
   "metadata": {
    "id": "AVdjX71oR0F3"
   },
   "outputs": [],
   "source": [
    "keras_file = \"/content/drive/MyDrive/jute_insect_classification/jute_insect.h5\"\n",
    "keras.models.save_model(model, keras_file)"
   ]
  },
  {
   "cell_type": "code",
   "execution_count": 25,
   "metadata": {
    "colab": {
     "base_uri": "https://localhost:8080/"
    },
    "id": "VGHQeKbVURjC",
    "outputId": "68aa8600-0b52-4dd1-8ab9-4a84caabc5be"
   },
   "outputs": [
    {
     "name": "stdout",
     "output_type": "stream",
     "text": [
      "INFO:tensorflow:Assets written to: /tmp/tmp7jz7a6qa/assets\n"
     ]
    },
    {
     "data": {
      "text/plain": [
       "80508984"
      ]
     },
     "execution_count": 25,
     "metadata": {},
     "output_type": "execute_result"
    }
   ],
   "source": [
    "tf_model_name = \"/content/drive/MyDrive/jute_insect_classification/jute_insect.tflite\"\n",
    "converter = tf.lite.TFLiteConverter.from_keras_model(model)\n",
    "tflite_model=converter.convert()\n",
    "tflite_model_name = tf_model_name\n",
    "open(tflite_model_name,\"wb\").write(tflite_model)"
   ]
  },
  {
   "cell_type": "code",
   "execution_count": null,
   "metadata": {
    "id": "OdhXYojvYOG5"
   },
   "outputs": [],
   "source": [
    "print(tf.__version__)"
   ]
  }
 ],
 "metadata": {
  "colab": {
   "collapsed_sections": [],
   "name": "Jute Insect Classification with VGG19 Transfer Learning.ipynb",
   "provenance": []
  },
  "kernelspec": {
   "display_name": "Python 3",
   "language": "python",
   "name": "python3"
  },
  "language_info": {
   "codemirror_mode": {
    "name": "ipython",
    "version": 3
   },
   "file_extension": ".py",
   "mimetype": "text/x-python",
   "name": "python",
   "nbconvert_exporter": "python",
   "pygments_lexer": "ipython3",
   "version": "3.8.8"
  }
 },
 "nbformat": 4,
 "nbformat_minor": 1
}
